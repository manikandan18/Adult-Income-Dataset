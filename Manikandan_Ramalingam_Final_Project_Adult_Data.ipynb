{
 "cells": [
  {
   "cell_type": "code",
   "execution_count": 22,
   "metadata": {},
   "outputs": [
    {
     "name": "stdout",
     "output_type": "stream",
     "text": [
      "Requirement already satisfied: ucimlrepo in /Users/manikanr/anaconda3/lib/python3.8/site-packages (0.0.3)\n",
      "\u001b[33mWARNING: You are using pip version 21.0.1; however, version 24.0 is available.\n",
      "You should consider upgrading via the '/Users/manikanr/anaconda3/bin/python -m pip install --upgrade pip' command.\u001b[0m\n",
      "Note: you may need to restart the kernel to use updated packages.\n"
     ]
    }
   ],
   "source": [
    "pip install ucimlrepo"
   ]
  },
  {
   "cell_type": "markdown",
   "metadata": {},
   "source": [
    "# Team 7 : Manikandan Ramalingam & Muhammed Haris"
   ]
  },
  {
   "cell_type": "code",
   "execution_count": 33,
   "metadata": {},
   "outputs": [
    {
     "name": "stdout",
     "output_type": "stream",
     "text": [
      "{'uci_id': 2, 'name': 'Adult', 'repository_url': 'https://archive.ics.uci.edu/dataset/2/adult', 'data_url': 'https://archive.ics.uci.edu/static/public/2/data.csv', 'abstract': 'Predict whether income exceeds $50K/yr based on census data. Also known as \"Census Income\" dataset. ', 'area': 'Social Science', 'tasks': ['Classification'], 'characteristics': ['Multivariate'], 'num_instances': 48842, 'num_features': 14, 'feature_types': ['Categorical', 'Integer'], 'demographics': ['Age', 'Income', 'Education Level', 'Other', 'Race', 'Sex'], 'target_col': ['income'], 'index_col': None, 'has_missing_values': 'yes', 'missing_values_symbol': 'NaN', 'year_of_dataset_creation': 1996, 'last_updated': 'Mon Aug 07 2023', 'dataset_doi': '10.24432/C5XW20', 'creators': ['Barry Becker', 'Ronny Kohavi'], 'intro_paper': None, 'additional_info': {'summary': 'Extraction was done by Barry Becker from the 1994 Census database.  A set of reasonably clean records was extracted using the following conditions: ((AAGE>16) && (AGI>100) && (AFNLWGT>1)&& (HRSWK>0))\\r\\n\\r\\nPrediction task is to determine whether a person makes over 50K a year.\\r\\n', 'purpose': None, 'funded_by': None, 'instances_represent': None, 'recommended_data_splits': None, 'sensitive_data': None, 'preprocessing_description': None, 'variable_info': 'Listing of attributes:\\r\\n\\r\\n>50K, <=50K.\\r\\n\\r\\nage: continuous.\\r\\nworkclass: Private, Self-emp-not-inc, Self-emp-inc, Federal-gov, Local-gov, State-gov, Without-pay, Never-worked.\\r\\nfnlwgt: continuous.\\r\\neducation: Bachelors, Some-college, 11th, HS-grad, Prof-school, Assoc-acdm, Assoc-voc, 9th, 7th-8th, 12th, Masters, 1st-4th, 10th, Doctorate, 5th-6th, Preschool.\\r\\neducation-num: continuous.\\r\\nmarital-status: Married-civ-spouse, Divorced, Never-married, Separated, Widowed, Married-spouse-absent, Married-AF-spouse.\\r\\noccupation: Tech-support, Craft-repair, Other-service, Sales, Exec-managerial, Prof-specialty, Handlers-cleaners, Machine-op-inspct, Adm-clerical, Farming-fishing, Transport-moving, Priv-house-serv, Protective-serv, Armed-Forces.\\r\\nrelationship: Wife, Own-child, Husband, Not-in-family, Other-relative, Unmarried.\\r\\nrace: White, Asian-Pac-Islander, Amer-Indian-Eskimo, Other, Black.\\r\\nsex: Female, Male.\\r\\ncapital-gain: continuous.\\r\\ncapital-loss: continuous.\\r\\nhours-per-week: continuous.\\r\\nnative-country: United-States, Cambodia, England, Puerto-Rico, Canada, Germany, Outlying-US(Guam-USVI-etc), India, Japan, Greece, South, China, Cuba, Iran, Honduras, Philippines, Italy, Poland, Jamaica, Vietnam, Mexico, Portugal, Ireland, France, Dominican-Republic, Laos, Ecuador, Taiwan, Haiti, Columbia, Hungary, Guatemala, Nicaragua, Scotland, Thailand, Yugoslavia, El-Salvador, Trinadad&Tobago, Peru, Hong, Holand-Netherlands.', 'citation': None}}\n",
      "              name     role         type      demographic  \\\n",
      "0              age  Feature      Integer              Age   \n",
      "1        workclass  Feature  Categorical           Income   \n",
      "2           fnlwgt  Feature      Integer             None   \n",
      "3        education  Feature  Categorical  Education Level   \n",
      "4    education-num  Feature      Integer  Education Level   \n",
      "5   marital-status  Feature  Categorical            Other   \n",
      "6       occupation  Feature  Categorical            Other   \n",
      "7     relationship  Feature  Categorical            Other   \n",
      "8             race  Feature  Categorical             Race   \n",
      "9              sex  Feature       Binary              Sex   \n",
      "10    capital-gain  Feature      Integer             None   \n",
      "11    capital-loss  Feature      Integer             None   \n",
      "12  hours-per-week  Feature      Integer             None   \n",
      "13  native-country  Feature  Categorical            Other   \n",
      "14          income   Target       Binary           Income   \n",
      "\n",
      "                                          description units missing_values  \n",
      "0                                                 N/A  None             no  \n",
      "1   Private, Self-emp-not-inc, Self-emp-inc, Feder...  None            yes  \n",
      "2                                                None  None             no  \n",
      "3    Bachelors, Some-college, 11th, HS-grad, Prof-...  None             no  \n",
      "4                                                None  None             no  \n",
      "5   Married-civ-spouse, Divorced, Never-married, S...  None             no  \n",
      "6   Tech-support, Craft-repair, Other-service, Sal...  None            yes  \n",
      "7   Wife, Own-child, Husband, Not-in-family, Other...  None             no  \n",
      "8   White, Asian-Pac-Islander, Amer-Indian-Eskimo,...  None             no  \n",
      "9                                       Female, Male.  None             no  \n",
      "10                                               None  None             no  \n",
      "11                                               None  None             no  \n",
      "12                                               None  None             no  \n",
      "13  United-States, Cambodia, England, Puerto-Rico,...  None            yes  \n",
      "14                                       >50K, <=50K.  None             no  \n"
     ]
    }
   ],
   "source": [
    "from ucimlrepo import fetch_ucirepo \n",
    "  \n",
    "# fetch dataset \n",
    "adult = fetch_ucirepo(id=2) \n",
    "  \n",
    "# data (as pandas dataframes) \n",
    "X = adult.data.features \n",
    "y = adult.data.targets \n",
    "  \n",
    "# metadata \n",
    "print(adult.metadata) \n",
    "  \n",
    "# variable information \n",
    "print(adult.variables) "
   ]
  },
  {
   "cell_type": "code",
   "execution_count": 2,
   "metadata": {},
   "outputs": [
    {
     "data": {
      "text/html": [
       "<div>\n",
       "<style scoped>\n",
       "    .dataframe tbody tr th:only-of-type {\n",
       "        vertical-align: middle;\n",
       "    }\n",
       "\n",
       "    .dataframe tbody tr th {\n",
       "        vertical-align: top;\n",
       "    }\n",
       "\n",
       "    .dataframe thead th {\n",
       "        text-align: right;\n",
       "    }\n",
       "</style>\n",
       "<table border=\"1\" class=\"dataframe\">\n",
       "  <thead>\n",
       "    <tr style=\"text-align: right;\">\n",
       "      <th></th>\n",
       "      <th>age</th>\n",
       "      <th>workclass</th>\n",
       "      <th>fnlwgt</th>\n",
       "      <th>education</th>\n",
       "      <th>education-num</th>\n",
       "      <th>marital-status</th>\n",
       "      <th>occupation</th>\n",
       "      <th>relationship</th>\n",
       "      <th>race</th>\n",
       "      <th>sex</th>\n",
       "      <th>capital-gain</th>\n",
       "      <th>capital-loss</th>\n",
       "      <th>hours-per-week</th>\n",
       "      <th>native-country</th>\n",
       "      <th>income</th>\n",
       "    </tr>\n",
       "  </thead>\n",
       "  <tbody>\n",
       "    <tr>\n",
       "      <th>0</th>\n",
       "      <td>39</td>\n",
       "      <td>State-gov</td>\n",
       "      <td>77516</td>\n",
       "      <td>Bachelors</td>\n",
       "      <td>13</td>\n",
       "      <td>Never-married</td>\n",
       "      <td>Adm-clerical</td>\n",
       "      <td>Not-in-family</td>\n",
       "      <td>White</td>\n",
       "      <td>Male</td>\n",
       "      <td>2174</td>\n",
       "      <td>0</td>\n",
       "      <td>40</td>\n",
       "      <td>United-States</td>\n",
       "      <td>&lt;=50K</td>\n",
       "    </tr>\n",
       "    <tr>\n",
       "      <th>1</th>\n",
       "      <td>50</td>\n",
       "      <td>Self-emp-not-inc</td>\n",
       "      <td>83311</td>\n",
       "      <td>Bachelors</td>\n",
       "      <td>13</td>\n",
       "      <td>Married-civ-spouse</td>\n",
       "      <td>Exec-managerial</td>\n",
       "      <td>Husband</td>\n",
       "      <td>White</td>\n",
       "      <td>Male</td>\n",
       "      <td>0</td>\n",
       "      <td>0</td>\n",
       "      <td>13</td>\n",
       "      <td>United-States</td>\n",
       "      <td>&lt;=50K</td>\n",
       "    </tr>\n",
       "    <tr>\n",
       "      <th>2</th>\n",
       "      <td>38</td>\n",
       "      <td>Private</td>\n",
       "      <td>215646</td>\n",
       "      <td>HS-grad</td>\n",
       "      <td>9</td>\n",
       "      <td>Divorced</td>\n",
       "      <td>Handlers-cleaners</td>\n",
       "      <td>Not-in-family</td>\n",
       "      <td>White</td>\n",
       "      <td>Male</td>\n",
       "      <td>0</td>\n",
       "      <td>0</td>\n",
       "      <td>40</td>\n",
       "      <td>United-States</td>\n",
       "      <td>&lt;=50K</td>\n",
       "    </tr>\n",
       "    <tr>\n",
       "      <th>3</th>\n",
       "      <td>53</td>\n",
       "      <td>Private</td>\n",
       "      <td>234721</td>\n",
       "      <td>11th</td>\n",
       "      <td>7</td>\n",
       "      <td>Married-civ-spouse</td>\n",
       "      <td>Handlers-cleaners</td>\n",
       "      <td>Husband</td>\n",
       "      <td>Black</td>\n",
       "      <td>Male</td>\n",
       "      <td>0</td>\n",
       "      <td>0</td>\n",
       "      <td>40</td>\n",
       "      <td>United-States</td>\n",
       "      <td>&lt;=50K</td>\n",
       "    </tr>\n",
       "    <tr>\n",
       "      <th>4</th>\n",
       "      <td>28</td>\n",
       "      <td>Private</td>\n",
       "      <td>338409</td>\n",
       "      <td>Bachelors</td>\n",
       "      <td>13</td>\n",
       "      <td>Married-civ-spouse</td>\n",
       "      <td>Prof-specialty</td>\n",
       "      <td>Wife</td>\n",
       "      <td>Black</td>\n",
       "      <td>Female</td>\n",
       "      <td>0</td>\n",
       "      <td>0</td>\n",
       "      <td>40</td>\n",
       "      <td>Cuba</td>\n",
       "      <td>&lt;=50K</td>\n",
       "    </tr>\n",
       "  </tbody>\n",
       "</table>\n",
       "</div>"
      ],
      "text/plain": [
       "   age         workclass  fnlwgt  education  education-num  \\\n",
       "0   39         State-gov   77516  Bachelors             13   \n",
       "1   50  Self-emp-not-inc   83311  Bachelors             13   \n",
       "2   38           Private  215646    HS-grad              9   \n",
       "3   53           Private  234721       11th              7   \n",
       "4   28           Private  338409  Bachelors             13   \n",
       "\n",
       "       marital-status         occupation   relationship   race     sex  \\\n",
       "0       Never-married       Adm-clerical  Not-in-family  White    Male   \n",
       "1  Married-civ-spouse    Exec-managerial        Husband  White    Male   \n",
       "2            Divorced  Handlers-cleaners  Not-in-family  White    Male   \n",
       "3  Married-civ-spouse  Handlers-cleaners        Husband  Black    Male   \n",
       "4  Married-civ-spouse     Prof-specialty           Wife  Black  Female   \n",
       "\n",
       "   capital-gain  capital-loss  hours-per-week native-country income  \n",
       "0          2174             0              40  United-States  <=50K  \n",
       "1             0             0              13  United-States  <=50K  \n",
       "2             0             0              40  United-States  <=50K  \n",
       "3             0             0              40  United-States  <=50K  \n",
       "4             0             0              40           Cuba  <=50K  "
      ]
     },
     "execution_count": 2,
     "metadata": {},
     "output_type": "execute_result"
    }
   ],
   "source": [
    "import pandas as pd\n",
    "\n",
    "#Fetch data from csv file with pandas\n",
    "adultData = pd.read_csv('https://archive.ics.uci.edu/static/public/2/data.csv', sep=',')\n",
    "adultData.head()\n",
    "#print(adultData.count())"
   ]
  },
  {
   "cell_type": "code",
   "execution_count": 120,
   "metadata": {},
   "outputs": [
    {
     "name": "stderr",
     "output_type": "stream",
     "text": [
      "No handles with labels found to put in legend.\n"
     ]
    },
    {
     "data": {
      "image/png": "[encoded data removed]",
      "text/plain": [
       "<Figure size 864x432 with 2 Axes>"
      ]
     },
     "metadata": {
      "needs_background": "light"
     },
     "output_type": "display_data"
    }
   ],
   "source": [
    "from sklearn.preprocessing import LabelEncoder\n",
    "import matplotlib.pyplot as plt\n",
    "import seaborn as sns\n",
    "\n",
    "# Filter/cleanse the columns which has null values\n",
    "filteredAdultData = adultData[adultData.notnull().all(axis=1)]\n",
    "\n",
    "# Filter/cleanse the columns that are considered irrelvant\n",
    "# Assumptions\n",
    "# fnlwgt - Weightage is not considered to avoid bias\n",
    "# education - Removed as eduction-num is equivalent\n",
    "# marital status and relationship wasn't considered too\n",
    "\n",
    "filteredAdultData = filteredAdultData.drop(columns=['fnlwgt', 'education', 'marital-status', 'relationship'])\n",
    "filteredAdultData.head()\n",
    "\n",
    "# Define a function to map income values to binary values\n",
    "def incomeToBinary(income):\n",
    "    if income == '<=50K' or income == '<=50K.':\n",
    "        return 0\n",
    "    elif income == '>50K' or income == '>50K.':\n",
    "        return 1\n",
    "\n",
    "# Apply the function to transform the 'income' column to binary\n",
    "filteredAdultData['income'] = filteredAdultData['income'].apply(lambda x: incomeToBinary(x))\n",
    "\n",
    "filteredAdultData.head()\n",
    "# Drop the original 'income' column if needed\n",
    "# df.drop(columns=['income'], inplace=True)\n",
    "\n",
    "# Create KDE plot with histogram\n",
    "#sns.histplot(data=filteredAdultData, x='age', hue='income', kde=True, element='step', fill=True)\n",
    "# Separate data for income <= 50 and income > 50\n",
    "\n",
    "# Create a figure and axes with two subplots\n",
    "#fig, axs = plt.subplots(1, 2, figsize=(12, 6))\n",
    "\n",
    "def plotHistogram(continuousVariable, yLabel, axis, axs):\n",
    "    incomeZero = filteredAdultData[filteredAdultData['income'] == 0][continuousVariable]\n",
    "    incomeOne = filteredAdultData[filteredAdultData['income'] == 1][continuousVariable]\n",
    "\n",
    "    axs[axis].hist([incomeZero, incomeOne], bins=10, color=['blue', 'orange'], label=['Income <= 50', 'Income > 50'], density='true')\n",
    "    axs[axis].set_title('Histogram of Binary Income')\n",
    "    plt.xlabel(yLabel)\n",
    "    plt.ylabel('Frequency')\n",
    "    return plt\n",
    "\n",
    "# Create a figure and axes with two subplots\n",
    "fig, axs = plt.subplots(1, 2, figsize=(12, 6))\n",
    "\n",
    "plt = plotHistogram('age', 'Age', 0, axs)\n",
    "sns.histplot(data=filteredAdultData, x='age', hue='income', kde=True, element='step', fill=True)\n",
    "axs[1].set_title('Kde Histogram of Age vs. Binary Income')\n",
    "# Add labels and title\n",
    "plt.xlabel('Age')\n",
    "plt.ylabel('Frequency')\n",
    "plt.legend()\n",
    "\n",
    "# Show the plot\n",
    "plt.tight_layout()\n",
    "plt.show()"
   ]
  },
  {
   "cell_type": "raw",
   "metadata": {},
   "source": [
    "From 35 years - 50 years, the proportion of incomes > 50 shows the normal distribution whereas the incomes <=50 shows long right tail with gamma distribution."
   ]
  },
  {
   "cell_type": "markdown",
   "metadata": {},
   "source": [
    "### Plot the relationships of other continuous variables of education (yrs), capital-gain and hours-per-week to income"
   ]
  },
  {
   "cell_type": "code",
   "execution_count": 4,
   "metadata": {
    "scrolled": true
   },
   "outputs": [
    {
     "data": {
      "image/png": "[encoded data removed]",
      "text/plain": [
       "<Figure size 864x432 with 2 Axes>"
      ]
     },
     "metadata": {
      "needs_background": "light"
     },
     "output_type": "display_data"
    },
    {
     "data": {
      "image/png": "[encoded data removed]",
      "text/plain": [
       "<Figure size 864x432 with 2 Axes>"
      ]
     },
     "metadata": {
      "needs_background": "light"
     },
     "output_type": "display_data"
    }
   ],
   "source": [
    "fig, axs = plt.subplots(1, 2, figsize=(12, 6))\n",
    "plt = plotHistogram('education-num', 'Education (yrs)', 0, axs)\n",
    "plt = plotHistogram('capital-gain', 'Capital gain', 1, axs)\n",
    "fig, axs = plt.subplots(1, 2, figsize=(12, 6))\n",
    "plt = plotHistogram('capital-loss', 'Capital loss', 0, axs)\n",
    "plt = plotHistogram('hours-per-week', 'Hours/week', 1, axs)"
   ]
  },
  {
   "cell_type": "raw",
   "metadata": {},
   "source": [
    "From above histograms, we can say positive relationships exist between number of years of education and income greater than 50K."
   ]
  },
  {
   "cell_type": "code",
   "execution_count": 5,
   "metadata": {},
   "outputs": [
    {
     "data": {
      "text/html": [
       "<div>\n",
       "<style scoped>\n",
       "    .dataframe tbody tr th:only-of-type {\n",
       "        vertical-align: middle;\n",
       "    }\n",
       "\n",
       "    .dataframe tbody tr th {\n",
       "        vertical-align: top;\n",
       "    }\n",
       "\n",
       "    .dataframe thead th {\n",
       "        text-align: right;\n",
       "    }\n",
       "</style>\n",
       "<table border=\"1\" class=\"dataframe\">\n",
       "  <thead>\n",
       "    <tr style=\"text-align: right;\">\n",
       "      <th></th>\n",
       "      <th>age</th>\n",
       "      <th>workclass</th>\n",
       "      <th>education-num</th>\n",
       "      <th>occupation</th>\n",
       "      <th>race</th>\n",
       "      <th>sex</th>\n",
       "      <th>capital-gain</th>\n",
       "      <th>capital-loss</th>\n",
       "      <th>hours-per-week</th>\n",
       "      <th>native-country</th>\n",
       "      <th>income</th>\n",
       "    </tr>\n",
       "  </thead>\n",
       "  <tbody>\n",
       "    <tr>\n",
       "      <th>0</th>\n",
       "      <td>39</td>\n",
       "      <td>7</td>\n",
       "      <td>13</td>\n",
       "      <td>1</td>\n",
       "      <td>4</td>\n",
       "      <td>1</td>\n",
       "      <td>2174</td>\n",
       "      <td>0</td>\n",
       "      <td>40</td>\n",
       "      <td>39</td>\n",
       "      <td>0</td>\n",
       "    </tr>\n",
       "    <tr>\n",
       "      <th>1</th>\n",
       "      <td>50</td>\n",
       "      <td>6</td>\n",
       "      <td>13</td>\n",
       "      <td>4</td>\n",
       "      <td>4</td>\n",
       "      <td>1</td>\n",
       "      <td>0</td>\n",
       "      <td>0</td>\n",
       "      <td>13</td>\n",
       "      <td>39</td>\n",
       "      <td>0</td>\n",
       "    </tr>\n",
       "    <tr>\n",
       "      <th>2</th>\n",
       "      <td>38</td>\n",
       "      <td>4</td>\n",
       "      <td>9</td>\n",
       "      <td>6</td>\n",
       "      <td>4</td>\n",
       "      <td>1</td>\n",
       "      <td>0</td>\n",
       "      <td>0</td>\n",
       "      <td>40</td>\n",
       "      <td>39</td>\n",
       "      <td>0</td>\n",
       "    </tr>\n",
       "    <tr>\n",
       "      <th>3</th>\n",
       "      <td>53</td>\n",
       "      <td>4</td>\n",
       "      <td>7</td>\n",
       "      <td>6</td>\n",
       "      <td>2</td>\n",
       "      <td>1</td>\n",
       "      <td>0</td>\n",
       "      <td>0</td>\n",
       "      <td>40</td>\n",
       "      <td>39</td>\n",
       "      <td>0</td>\n",
       "    </tr>\n",
       "    <tr>\n",
       "      <th>4</th>\n",
       "      <td>28</td>\n",
       "      <td>4</td>\n",
       "      <td>13</td>\n",
       "      <td>10</td>\n",
       "      <td>2</td>\n",
       "      <td>0</td>\n",
       "      <td>0</td>\n",
       "      <td>0</td>\n",
       "      <td>40</td>\n",
       "      <td>5</td>\n",
       "      <td>0</td>\n",
       "    </tr>\n",
       "  </tbody>\n",
       "</table>\n",
       "</div>"
      ],
      "text/plain": [
       "   age  workclass  education-num  occupation  race  sex  capital-gain  \\\n",
       "0   39          7             13           1     4    1          2174   \n",
       "1   50          6             13           4     4    1             0   \n",
       "2   38          4              9           6     4    1             0   \n",
       "3   53          4              7           6     2    1             0   \n",
       "4   28          4             13          10     2    0             0   \n",
       "\n",
       "   capital-loss  hours-per-week  native-country  income  \n",
       "0             0              40              39       0  \n",
       "1             0              13              39       0  \n",
       "2             0              40              39       0  \n",
       "3             0              40              39       0  \n",
       "4             0              40               5       0  "
      ]
     },
     "execution_count": 5,
     "metadata": {},
     "output_type": "execute_result"
    }
   ],
   "source": [
    "# Filter and cleanse the data by converting the categorical variables to numeric codes\n",
    "# Initialize LabelEncoder\n",
    "label_encoder = LabelEncoder()\n",
    "\n",
    "# Encode each categorical variable with integer values\n",
    "for column in ['workclass', 'occupation', 'race', 'sex', 'native-country']:\n",
    "    filteredAdultData[column] = label_encoder.fit_transform(filteredAdultData[column])\n",
    "\n",
    "# Describe the data set for continuous and discrete data\n",
    "filteredAdultData.describe()\n",
    "filteredAdultData.head()"
   ]
  },
  {
   "cell_type": "markdown",
   "metadata": {},
   "source": [
    "### Plot the corresponding histograms on frequency distribution for other explanatory variables"
   ]
  },
  {
   "cell_type": "code",
   "execution_count": 6,
   "metadata": {},
   "outputs": [
    {
     "data": {
      "image/png": "[encoded data removed]",
      "text/plain": [
       "<Figure size 864x432 with 2 Axes>"
      ]
     },
     "metadata": {
      "needs_background": "light"
     },
     "output_type": "display_data"
    },
    {
     "data": {
      "image/png": "[encoded data removed]",
      "text/plain": [
       "<Figure size 864x432 with 2 Axes>"
      ]
     },
     "metadata": {
      "needs_background": "light"
     },
     "output_type": "display_data"
    }
   ],
   "source": [
    "fig, axs = plt.subplots(1, 2, figsize=(12, 6))\n",
    "plt = plotHistogram('workclass', 'Workclass', 0, axs)\n",
    "plt = plotHistogram('occupation', 'Occupation', 1, axs)\n",
    "fig, axs = plt.subplots(1, 2, figsize=(12, 6))\n",
    "plt = plotHistogram('race', 'Race', 0, axs)\n",
    "plt = plotHistogram('native-country', 'Native country', 1, axs)"
   ]
  },
  {
   "cell_type": "raw",
   "metadata": {},
   "source": [
    "From the other explanatory variables, we can see occupation and workclass to some extent has a little relevance to income. Its better to find the correlation of all variables to rule out the possibilities. "
   ]
  },
  {
   "cell_type": "markdown",
   "metadata": {},
   "source": [
    "### Plot the correlation matrix of all explanatory variables against income"
   ]
  },
  {
   "cell_type": "code",
   "execution_count": 7,
   "metadata": {
    "scrolled": true
   },
   "outputs": [
    {
     "data": {
      "text/html": [
       "<div>\n",
       "<style scoped>\n",
       "    .dataframe tbody tr th:only-of-type {\n",
       "        vertical-align: middle;\n",
       "    }\n",
       "\n",
       "    .dataframe tbody tr th {\n",
       "        vertical-align: top;\n",
       "    }\n",
       "\n",
       "    .dataframe thead th {\n",
       "        text-align: right;\n",
       "    }\n",
       "</style>\n",
       "<table border=\"1\" class=\"dataframe\">\n",
       "  <thead>\n",
       "    <tr style=\"text-align: right;\">\n",
       "      <th></th>\n",
       "      <th>age</th>\n",
       "      <th>workclass</th>\n",
       "      <th>education-num</th>\n",
       "      <th>occupation</th>\n",
       "      <th>race</th>\n",
       "      <th>sex</th>\n",
       "      <th>capital-gain</th>\n",
       "      <th>capital-loss</th>\n",
       "      <th>hours-per-week</th>\n",
       "      <th>native-country</th>\n",
       "      <th>income</th>\n",
       "    </tr>\n",
       "  </thead>\n",
       "  <tbody>\n",
       "    <tr>\n",
       "      <th>age</th>\n",
       "      <td>1.000000</td>\n",
       "      <td>0.019250</td>\n",
       "      <td>0.033327</td>\n",
       "      <td>-0.014986</td>\n",
       "      <td>0.027481</td>\n",
       "      <td>0.086811</td>\n",
       "      <td>0.078006</td>\n",
       "      <td>0.057772</td>\n",
       "      <td>0.079306</td>\n",
       "      <td>-0.002065</td>\n",
       "      <td>0.231986</td>\n",
       "    </tr>\n",
       "    <tr>\n",
       "      <th>workclass</th>\n",
       "      <td>0.019250</td>\n",
       "      <td>1.000000</td>\n",
       "      <td>0.041272</td>\n",
       "      <td>0.196509</td>\n",
       "      <td>0.055403</td>\n",
       "      <td>0.085466</td>\n",
       "      <td>0.033021</td>\n",
       "      <td>0.011103</td>\n",
       "      <td>0.114724</td>\n",
       "      <td>-0.004796</td>\n",
       "      <td>0.035898</td>\n",
       "    </tr>\n",
       "    <tr>\n",
       "      <th>education-num</th>\n",
       "      <td>0.033327</td>\n",
       "      <td>0.041272</td>\n",
       "      <td>1.000000</td>\n",
       "      <td>0.104945</td>\n",
       "      <td>0.031123</td>\n",
       "      <td>0.007802</td>\n",
       "      <td>0.125569</td>\n",
       "      <td>0.081799</td>\n",
       "      <td>0.143727</td>\n",
       "      <td>0.062447</td>\n",
       "      <td>0.332845</td>\n",
       "    </tr>\n",
       "    <tr>\n",
       "      <th>occupation</th>\n",
       "      <td>-0.014986</td>\n",
       "      <td>0.196509</td>\n",
       "      <td>0.104945</td>\n",
       "      <td>1.000000</td>\n",
       "      <td>0.004717</td>\n",
       "      <td>0.069735</td>\n",
       "      <td>0.022018</td>\n",
       "      <td>0.017622</td>\n",
       "      <td>0.060587</td>\n",
       "      <td>-0.007589</td>\n",
       "      <td>0.066642</td>\n",
       "    </tr>\n",
       "    <tr>\n",
       "      <th>race</th>\n",
       "      <td>0.027481</td>\n",
       "      <td>0.055403</td>\n",
       "      <td>0.031123</td>\n",
       "      <td>0.004717</td>\n",
       "      <td>1.000000</td>\n",
       "      <td>0.087625</td>\n",
       "      <td>0.011930</td>\n",
       "      <td>0.017947</td>\n",
       "      <td>0.040628</td>\n",
       "      <td>0.133863</td>\n",
       "      <td>0.071068</td>\n",
       "    </tr>\n",
       "    <tr>\n",
       "      <th>sex</th>\n",
       "      <td>0.086811</td>\n",
       "      <td>0.085466</td>\n",
       "      <td>0.007802</td>\n",
       "      <td>0.069735</td>\n",
       "      <td>0.087625</td>\n",
       "      <td>1.000000</td>\n",
       "      <td>0.047300</td>\n",
       "      <td>0.045509</td>\n",
       "      <td>0.230097</td>\n",
       "      <td>-0.009341</td>\n",
       "      <td>0.215325</td>\n",
       "    </tr>\n",
       "    <tr>\n",
       "      <th>capital-gain</th>\n",
       "      <td>0.078006</td>\n",
       "      <td>0.033021</td>\n",
       "      <td>0.125569</td>\n",
       "      <td>0.022018</td>\n",
       "      <td>0.011930</td>\n",
       "      <td>0.047300</td>\n",
       "      <td>1.000000</td>\n",
       "      <td>-0.031691</td>\n",
       "      <td>0.082279</td>\n",
       "      <td>0.000272</td>\n",
       "      <td>0.222509</td>\n",
       "    </tr>\n",
       "    <tr>\n",
       "      <th>capital-loss</th>\n",
       "      <td>0.057772</td>\n",
       "      <td>0.011103</td>\n",
       "      <td>0.081799</td>\n",
       "      <td>0.017622</td>\n",
       "      <td>0.017947</td>\n",
       "      <td>0.045509</td>\n",
       "      <td>-0.031691</td>\n",
       "      <td>1.000000</td>\n",
       "      <td>0.055360</td>\n",
       "      <td>0.000140</td>\n",
       "      <td>0.149078</td>\n",
       "    </tr>\n",
       "    <tr>\n",
       "      <th>hours-per-week</th>\n",
       "      <td>0.079306</td>\n",
       "      <td>0.114724</td>\n",
       "      <td>0.143727</td>\n",
       "      <td>0.060587</td>\n",
       "      <td>0.040628</td>\n",
       "      <td>0.230097</td>\n",
       "      <td>0.082279</td>\n",
       "      <td>0.055360</td>\n",
       "      <td>1.000000</td>\n",
       "      <td>0.000418</td>\n",
       "      <td>0.227527</td>\n",
       "    </tr>\n",
       "    <tr>\n",
       "      <th>native-country</th>\n",
       "      <td>-0.002065</td>\n",
       "      <td>-0.004796</td>\n",
       "      <td>0.062447</td>\n",
       "      <td>-0.007589</td>\n",
       "      <td>0.133863</td>\n",
       "      <td>-0.009341</td>\n",
       "      <td>0.000272</td>\n",
       "      <td>0.000140</td>\n",
       "      <td>0.000418</td>\n",
       "      <td>1.000000</td>\n",
       "      <td>0.015395</td>\n",
       "    </tr>\n",
       "    <tr>\n",
       "      <th>income</th>\n",
       "      <td>0.231986</td>\n",
       "      <td>0.035898</td>\n",
       "      <td>0.332845</td>\n",
       "      <td>0.066642</td>\n",
       "      <td>0.071068</td>\n",
       "      <td>0.215325</td>\n",
       "      <td>0.222509</td>\n",
       "      <td>0.149078</td>\n",
       "      <td>0.227527</td>\n",
       "      <td>0.015395</td>\n",
       "      <td>1.000000</td>\n",
       "    </tr>\n",
       "  </tbody>\n",
       "</table>\n",
       "</div>"
      ],
      "text/plain": [
       "                     age  workclass  education-num  occupation      race  \\\n",
       "age             1.000000   0.019250       0.033327   -0.014986  0.027481   \n",
       "workclass       0.019250   1.000000       0.041272    0.196509  0.055403   \n",
       "education-num   0.033327   0.041272       1.000000    0.104945  0.031123   \n",
       "occupation     -0.014986   0.196509       0.104945    1.000000  0.004717   \n",
       "race            0.027481   0.055403       0.031123    0.004717  1.000000   \n",
       "sex             0.086811   0.085466       0.007802    0.069735  0.087625   \n",
       "capital-gain    0.078006   0.033021       0.125569    0.022018  0.011930   \n",
       "capital-loss    0.057772   0.011103       0.081799    0.017622  0.017947   \n",
       "hours-per-week  0.079306   0.114724       0.143727    0.060587  0.040628   \n",
       "native-country -0.002065  -0.004796       0.062447   -0.007589  0.133863   \n",
       "income          0.231986   0.035898       0.332845    0.066642  0.071068   \n",
       "\n",
       "                     sex  capital-gain  capital-loss  hours-per-week  \\\n",
       "age             0.086811      0.078006      0.057772        0.079306   \n",
       "workclass       0.085466      0.033021      0.011103        0.114724   \n",
       "education-num   0.007802      0.125569      0.081799        0.143727   \n",
       "occupation      0.069735      0.022018      0.017622        0.060587   \n",
       "race            0.087625      0.011930      0.017947        0.040628   \n",
       "sex             1.000000      0.047300      0.045509        0.230097   \n",
       "capital-gain    0.047300      1.000000     -0.031691        0.082279   \n",
       "capital-loss    0.045509     -0.031691      1.000000        0.055360   \n",
       "hours-per-week  0.230097      0.082279      0.055360        1.000000   \n",
       "native-country -0.009341      0.000272      0.000140        0.000418   \n",
       "income          0.215325      0.222509      0.149078        0.227527   \n",
       "\n",
       "                native-country    income  \n",
       "age                  -0.002065  0.231986  \n",
       "workclass            -0.004796  0.035898  \n",
       "education-num         0.062447  0.332845  \n",
       "occupation           -0.007589  0.066642  \n",
       "race                  0.133863  0.071068  \n",
       "sex                  -0.009341  0.215325  \n",
       "capital-gain          0.000272  0.222509  \n",
       "capital-loss          0.000140  0.149078  \n",
       "hours-per-week        0.000418  0.227527  \n",
       "native-country        1.000000  0.015395  \n",
       "income                0.015395  1.000000  "
      ]
     },
     "execution_count": 7,
     "metadata": {},
     "output_type": "execute_result"
    }
   ],
   "source": [
    "filteredAdultData.corr()"
   ]
  },
  {
   "cell_type": "raw",
   "metadata": {},
   "source": [
    "From the correlation matrix above, we can see number of years of education as more relevant to income. Also, age, number of hours of work, capital-gain, sex as close second."
   ]
  },
  {
   "cell_type": "markdown",
   "metadata": {},
   "source": [
    "### Let's try to calculate Probability for few scenarios"
   ]
  },
  {
   "cell_type": "markdown",
   "metadata": {},
   "source": [
    "#### 1. Probability of getting income >50K for the whole sample"
   ]
  },
  {
   "cell_type": "code",
   "execution_count": 20,
   "metadata": {},
   "outputs": [
    {
     "name": "stdout",
     "output_type": "stream",
     "text": [
      "\n",
      "Probability of income >50K in sample is 0.24\n",
      "\n",
      "Probability of income <=50K in sample is 0.76\n",
      "\n",
      "From above sample probability of getting income > 50K is only 24%\n",
      "\n"
     ]
    }
   ],
   "source": [
    "sampleProbForIncomeGreaterThanFifty = filteredAdultData[filteredAdultData['income'] == 1].count()/filteredAdultData.count()\n",
    "print(\"\\nProbability of income >50K in sample is {}\".format(round(sampleProbForIncomeGreaterThanFifty['income'], 2)))\n",
    "\n",
    "print(\"\\nProbability of income <=50K in sample is {}\\n\".format(round(1 - sampleProbForIncomeGreaterThanFifty['income'], 2)))\n",
    "print(\"From above, sample probability of getting income > 50K is only 24%\\n\")"
   ]
  },
  {
   "cell_type": "markdown",
   "metadata": {},
   "source": [
    "#### 2. Probability of getting income >50k  or <=50k if we take samples after and before mean age"
   ]
  },
  {
   "cell_type": "code",
   "execution_count": 47,
   "metadata": {},
   "outputs": [
    {
     "name": "stdout",
     "output_type": "stream",
     "text": [
      "\n",
      "The mean age of sample is 39.0\n",
      "\n",
      "Probability of income >50K if age is >=39 in sample is 0.35\n",
      "From above, sample probability of getting income >50K if the age is >=39 is 35.0%\n",
      "\n",
      "\n",
      "Probability of income <50K if age is >=39 in sample is 0.65\n",
      "From above, sample probability of getting income <50K if the age is >=39 is 65.0%\n",
      "\n",
      "\n",
      "Probability of income >50K if age is <39 in sample is 0.15\n",
      "From above, sample probability of getting income >50K if the age is <39 is 15.0%\n",
      "\n",
      "\n",
      "Probability of income <50K if age is <39 in sample is 0.85\n",
      "From above, sample probability of getting income <50K if the age is <39 is 85.0%\n",
      "\n"
     ]
    }
   ],
   "source": [
    "print(\"\\nThe mean age of sample is {}\".format(round(filteredAdultData['age'].mean(), 0)))\n",
    "\n",
    "# Filter the data with age >= 39 and income > 50K\n",
    "def probabilityBasedOnAge(age, income, incomeRange, ageRange, filteredAdultDataAgeGrThanMean, count,\n",
    "                          dataType):\n",
    "    sampleProbForIncGrThanFiftyAfterMeanAge = filteredAdultDataAgeGrThanMean[dataType].count()/count\n",
    "    print(\"\\nProbability of income {} if {} is {} in sample is {}\".format(incomeRange, dataType, ageRange, round(sampleProbForIncGrThanFiftyAfterMeanAge['income'], 2)))\n",
    "    print(\"From above, sample probability of getting income {} if the {} is {} is {}%\\n\".format(incomeRange, dataType, ageRange,\n",
    "                                                                                         round(sampleProbForIncGrThanFiftyAfterMeanAge['income'], 2)*100))\n",
    "\n",
    "# Filter the data with age >= 39 and income > 50K\n",
    "filteredAdultDataAgeGrThanMean = filteredAdultData[(filteredAdultData['age'] >= 39) \n",
    "                                                   & (filteredAdultData['income'] == 1)]\n",
    "countOfAllDataGreater = filteredAdultData[filteredAdultData['age'] >= 39].count()\n",
    "probabilityBasedOnAge(39, 1, '>50K', '>=39', filteredAdultDataAgeGrThanMean, countOfAllDataGreater, 'age')\n",
    "\n",
    "# Filter the data with age >= 39 and income < 50K. This should be (1-p)\n",
    "filteredAdultDataAgeGrThanMean = filteredAdultData[(filteredAdultData['age'] >= 39) \n",
    "                                                   & (filteredAdultData['income'] == 0)]\n",
    "probabilityBasedOnAge(39, 0, '<50K', '>=39', filteredAdultDataAgeGrThanMean, countOfAllDataGreater, 'age')\n",
    "\n",
    "# Filter the data with age < 39 and income > 50K\n",
    "filteredAdultDataAgeGrThanMean = filteredAdultData[(filteredAdultData['age'] < 39) \n",
    "                                                   & (filteredAdultData['income'] == 1)]\n",
    "countOfAllDataLesser = filteredAdultData[filteredAdultData['age'] < 39].count()\n",
    "probabilityBasedOnAge(39, 1, '>50K', '<39', filteredAdultDataAgeGrThanMean, countOfAllDataLesser, 'age')\n",
    "\n",
    "# Filter the data with age >= 39 and income < 50K. This should be (1-p)\n",
    "filteredAdultDataAgeGrThanMean = filteredAdultData[(filteredAdultData['age'] < 39) \n",
    "                                                   & (filteredAdultData['income'] == 0)]\n",
    "probabilityBasedOnAge(39, 0, '<50K', '<39', filteredAdultDataAgeGrThanMean, countOfAllDataLesser, 'age')\n"
   ]
  },
  {
   "cell_type": "raw",
   "metadata": {},
   "source": [
    "From above, we can conclude the probability of getting higher salaries after mean age of 39 is higher ie. 35% compared to 15% if age is less than 39."
   ]
  },
  {
   "cell_type": "markdown",
   "metadata": {},
   "source": [
    "### Probability based on Number of years of Education"
   ]
  },
  {
   "cell_type": "markdown",
   "metadata": {},
   "source": [
    "#### Probability of getting income >50k  or <=50k if we take samples after and before mean years of education"
   ]
  },
  {
   "cell_type": "code",
   "execution_count": 45,
   "metadata": {},
   "outputs": [
    {
     "name": "stdout",
     "output_type": "stream",
     "text": [
      "\n",
      "The mean number of years of education of sample is 10.0\n"
     ]
    },
    {
     "data": {
      "text/plain": [
       "count    47621.000000\n",
       "mean        10.090821\n",
       "std          2.568320\n",
       "min          1.000000\n",
       "25%          9.000000\n",
       "50%         10.000000\n",
       "75%         12.000000\n",
       "max         16.000000\n",
       "Name: education-num, dtype: float64"
      ]
     },
     "execution_count": 45,
     "metadata": {},
     "output_type": "execute_result"
    }
   ],
   "source": [
    "print(\"\\nThe mean number of years of education of sample is {}\".format(round(filteredAdultData['education-num'].mean(), 0)))\n",
    "filteredAdultData['education-num'].describe()"
   ]
  },
  {
   "cell_type": "code",
   "execution_count": 50,
   "metadata": {},
   "outputs": [
    {
     "name": "stdout",
     "output_type": "stream",
     "text": [
      "\n",
      "Probability of income >50K if education-num is >=10 in sample is 0.33\n",
      "From above, sample probability of getting income >50K if the education-num is >=10 is 33.0%\n",
      "\n",
      "\n",
      "Probability of income <50K if education-num is >=10 in sample is 0.67\n",
      "From above, sample probability of getting income <50K if the education-num is >=10 is 67.0%\n",
      "\n",
      "\n",
      "Probability of income >50K if education-num is <10 in sample is 0.13\n",
      "From above, sample probability of getting income >50K if the education-num is <10 is 13.0%\n",
      "\n",
      "\n",
      "Probability of income <50K if education-num is <10 in sample is 0.87\n",
      "From above, sample probability of getting income <50K if the education-num is <10 is 87.0%\n",
      "\n"
     ]
    }
   ],
   "source": [
    "# Filter the data with number of years of education >= 10 and income > 50K\n",
    "filteredAdultDataAgeGrThanMean = filteredAdultData[(filteredAdultData['education-num'] >= 10) \n",
    "                                                   & (filteredAdultData['income'] == 1)]\n",
    "countOfAllDataGreater = filteredAdultData[filteredAdultData['education-num'] >= 10].count()\n",
    "probabilityBasedOnAge(39, 1, '>50K', '>=10', filteredAdultDataAgeGrThanMean, countOfAllDataGreater, 'education-num')\n",
    "\n",
    "# Filter the data with number of years of education >= 10 and income < 50K. This should be (1-p)\n",
    "filteredAdultDataAgeGrThanMean = filteredAdultData[(filteredAdultData['education-num'] >= 10) \n",
    "                                                   & (filteredAdultData['income'] == 0)]\n",
    "probabilityBasedOnAge(39, 0, '<50K', '>=10', filteredAdultDataAgeGrThanMean, countOfAllDataGreater, 'education-num')\n",
    "\n",
    "# Filter the data with number of years of education < 10 and income > 50K\n",
    "filteredAdultDataAgeGrThanMean = filteredAdultData[(filteredAdultData['education-num'] < 10) \n",
    "                                                   & (filteredAdultData['income'] == 1)]\n",
    "countOfAllDataLesser = filteredAdultData[filteredAdultData['education-num'] < 10].count()\n",
    "probabilityBasedOnAge(39, 1, '>50K', '<10', filteredAdultDataAgeGrThanMean, countOfAllDataLesser, 'education-num')\n",
    "\n",
    "# Filter the data with number of years of education < 10 and income < 50K. This should be (1-p)\n",
    "filteredAdultDataAgeGrThanMean = filteredAdultData[(filteredAdultData['education-num'] < 10) \n",
    "                                                   & (filteredAdultData['income'] == 0)]\n",
    "probabilityBasedOnAge(39, 0, '<50K', '<10', filteredAdultDataAgeGrThanMean, countOfAllDataLesser, 'education-num')"
   ]
  },
  {
   "cell_type": "raw",
   "metadata": {},
   "source": [
    "From the above probability distribution, conclusion is that if number of years of education is greater than 10 years (mean), the probability of getting income more than 50K is 33%. It is only 13% if the education is below 10 years.\n",
    "At the same time, if the number of years of education is more than 10 years, there is no drastic increase in percentiles as 67% is still below 50K."
   ]
  },
  {
   "cell_type": "markdown",
   "metadata": {},
   "source": [
    "### Joint probability Distribution"
   ]
  },
  {
   "cell_type": "markdown",
   "metadata": {},
   "source": [
    "#### Joint probability distribution of income >50K when Age > 39 and Education > 10"
   ]
  },
  {
   "cell_type": "code",
   "execution_count": 55,
   "metadata": {},
   "outputs": [
    {
     "name": "stdout",
     "output_type": "stream",
     "text": [
      "\n",
      "The joint probability distribution of income >50K with Age >=39 and education >= 10 years is 0.12\n"
     ]
    }
   ],
   "source": [
    "# Assuming these are independent events, the probability of both events occurring P(A n B) = P(A) * P(B)\n",
    "print(\"\\nThe joint probability distribution of income >50K with Age >=39 and education >= 10 years is {}\".format(round(0.35*0.33, 2)))"
   ]
  },
  {
   "cell_type": "markdown",
   "metadata": {},
   "source": [
    "#### Joint probability distribution of income >50K when Age > 39 or Education  > 10"
   ]
  },
  {
   "cell_type": "code",
   "execution_count": 56,
   "metadata": {
    "scrolled": true
   },
   "outputs": [
    {
     "name": "stdout",
     "output_type": "stream",
     "text": [
      "\n",
      "The joint probability distribution of income >50K with Age >=39 or education >= 10 years is 0.57\n"
     ]
    }
   ],
   "source": [
    "# Assuming these are independent events, the probability of either events occurring P(A U B) = P(A) + P(B) - P(A n B)\n",
    "print(\"\\nThe joint probability distribution of income >50K with Age >=39 or education >= 10 years is {}\".format(round(0.35+0.33-0.11, 2)))"
   ]
  },
  {
   "cell_type": "markdown",
   "metadata": {},
   "source": [
    "#### Joint probability distribution of income <50K when Age < 39 and Education < 10"
   ]
  },
  {
   "cell_type": "code",
   "execution_count": 57,
   "metadata": {},
   "outputs": [
    {
     "name": "stdout",
     "output_type": "stream",
     "text": [
      "\n",
      "The joint probability distribution of income <50K with Age <39 and education < 10 years is 0.74\n"
     ]
    }
   ],
   "source": [
    "# Assuming these are independent events, the probability of both events occurring P(A n B) = P(A) * P(B)\n",
    "print(\"\\nThe joint probability distribution of income <50K with Age <39 and education < 10 years is {}\".format(round(0.87*0.85, 2)))"
   ]
  },
  {
   "cell_type": "markdown",
   "metadata": {},
   "source": [
    "#### Joint probability distribution of income <50K when Age < 39 or Education  < 10"
   ]
  },
  {
   "cell_type": "code",
   "execution_count": 58,
   "metadata": {},
   "outputs": [
    {
     "name": "stdout",
     "output_type": "stream",
     "text": [
      "\n",
      "The joint probability distribution of income <50K with Age <39 or education < 10 years is 0.98\n"
     ]
    }
   ],
   "source": [
    "# Assuming these are independent events, the probability of either events occurring P(A U B) = P(A) + P(B) - P(A n B)\n",
    "print(\"\\nThe joint probability distribution of income <50K with Age <39 or education < 10 years is {}\".format(round(0.87+0.85-0.74, 2)))"
   ]
  },
  {
   "cell_type": "markdown",
   "metadata": {},
   "source": [
    "### If time permits, add Bayesian inference here with posterior probability based on prior probabilities"
   ]
  },
  {
   "cell_type": "markdown",
   "metadata": {},
   "source": [
    "### Normal Distribution of Population Sample"
   ]
  },
  {
   "cell_type": "markdown",
   "metadata": {},
   "source": [
    "#### 1. Population Distribution of income >50K if education-num is >=10 in sample is 0.33"
   ]
  },
  {
   "cell_type": "raw",
   "metadata": {},
   "source": [
    "The data has an income of either <=50K or >50K. So, the binomial probabilty distribution would be right here."
   ]
  },
  {
   "cell_type": "code",
   "execution_count": 65,
   "metadata": {},
   "outputs": [
    {
     "name": "stdout",
     "output_type": "stream",
     "text": [
      "People with income >50K when sample gets used was [8566]\n",
      "Mean of the sample [2826.78]\n",
      "People with income >50K when multiple samples selected randomly were used was 0.32999500819104755\n",
      "Standard Deviation 0.0029\n",
      "Standard Error 1.808e-05\n"
     ]
    },
    {
     "data": {
      "image/png": "[encoded data removed]",
      "text/plain": [
       "<Figure size 432x288 with 1 Axes>"
      ]
     },
     "metadata": {
      "needs_background": "light"
     },
     "output_type": "display_data"
    }
   ],
   "source": [
    "import numpy as np\n",
    "import statistics\n",
    "import matplotlib.pyplot as plt\n",
    "import math\n",
    "\n",
    "# Count of all observations with inceome > 50K and eductation-num >=10\n",
    "noOfObs = countOfAllDataGreater\n",
    "proportionInThatSample = 0.33\n",
    "\n",
    "def plotNormal(countInSample, sampleProportion, incomeRange):\n",
    "   # Do binomial distribution for a single random sample\n",
    "   y1 = np.random.binomial(countInSample, sampleProportion, 1)\n",
    "   print(\"People with income {} when sample gets used was {}\".format(incomeRange, y1))\n",
    "   print(\"Mean of the sample {}\".format(y1*sampleProportion))\n",
    "\n",
    "   # Do binomial distribution for multiple samples randomly selected with each sample size a million times\n",
    "   y2 = np.random.binomial(countInSample, sampleProportion, 1000000)/countInSample\n",
    "   print(\"People with income {} when multiple samples selected randomly were used was {}\"\n",
    "         .format(incomeRange, statistics.mean(y2)))\n",
    "   print(\"Standard Deviation {}\".format(round(statistics.stdev(y2), 4)))\n",
    "   print(\"Standard Error {}\".format(round(statistics.stdev(y2)/math.sqrt(countInSample), 8)))\n",
    "   plt.hist(y2, bins=14, edgecolor='black')\n",
    "   plt.xlabel('Sample Propotion')\n",
    "   plt.ylabel('Frequency')\n",
    "   plt.show()\n",
    "plotNormal(countOfAllDataGreater['income'], 0.33, '>50K')"
   ]
  },
  {
   "cell_type": "markdown",
   "metadata": {},
   "source": [
    "#### 2. Population Distribution of income <50K if education-num is >=10 in sample is (1-0.33) = 0.67"
   ]
  },
  {
   "cell_type": "code",
   "execution_count": 66,
   "metadata": {},
   "outputs": [
    {
     "name": "stdout",
     "output_type": "stream",
     "text": [
      "People with income <50K when sample gets used was [17331]\n",
      "Mean of the sample [11611.77]\n",
      "People with income <50K when multiple samples selected randomly were used was 0.6699987483848638\n",
      "Standard Deviation 0.0029\n",
      "Standard Error 1.811e-05\n"
     ]
    },
    {
     "data": {
      "image/png": "[encoded data removed]",
      "text/plain": [
       "<Figure size 432x288 with 1 Axes>"
      ]
     },
     "metadata": {
      "needs_background": "light"
     },
     "output_type": "display_data"
    }
   ],
   "source": [
    "plotNormal(countOfAllDataGreater['income'], 0.67, '<50K')"
   ]
  },
  {
   "cell_type": "markdown",
   "metadata": {},
   "source": [
    "#### 3. Probability of income >50K if age is >=39 in sample is 0.35"
   ]
  },
  {
   "cell_type": "code",
   "execution_count": 67,
   "metadata": {},
   "outputs": [
    {
     "name": "stdout",
     "output_type": "stream",
     "text": [
      "People with income >50K when sample gets used was [9059]\n",
      "Mean of the sample [3170.65]\n",
      "People with income >50K when multiple samples selected randomly were used was 0.3500013304876173\n",
      "Standard Deviation 0.003\n",
      "Standard Error 1.834e-05\n"
     ]
    },
    {
     "data": {
      "image/png": "[encoded data removed]",
      "text/plain": [
       "<Figure size 432x288 with 1 Axes>"
      ]
     },
     "metadata": {
      "needs_background": "light"
     },
     "output_type": "display_data"
    }
   ],
   "source": [
    "plotNormal(countOfAllDataGreater['income'], 0.35, '>50K')"
   ]
  },
  {
   "cell_type": "markdown",
   "metadata": {},
   "source": [
    "#### 4. Probability of income <50K if age is >=39 in sample is (1-0.35) = 0.65"
   ]
  },
  {
   "cell_type": "code",
   "execution_count": 68,
   "metadata": {},
   "outputs": [
    {
     "name": "stdout",
     "output_type": "stream",
     "text": [
      "People with income <50K when sample gets used was [16821]\n",
      "Mean of the sample [10933.65]\n",
      "People with income <50K when multiple samples selected randomly were used was 0.6500036805491463\n",
      "Standard Deviation 0.003\n",
      "Standard Error 1.831e-05\n"
     ]
    },
    {
     "data": {
      "image/png": "[encoded data removed]",
      "text/plain": [
       "<Figure size 432x288 with 1 Axes>"
      ]
     },
     "metadata": {
      "needs_background": "light"
     },
     "output_type": "display_data"
    }
   ],
   "source": [
    "plotNormal(countOfAllDataGreater['income'], 0.65, '<50K')"
   ]
  },
  {
   "cell_type": "raw",
   "metadata": {},
   "source": [
    "According to Central Limit Theorem, the sample proportion would reach the population proportion. From above, with US population of 330 million, from above sample distribution, the population size where probability of income >50K for ages > 39 would be closer to 103 million. Also, the population size where probability of income >50K where education >= 10 years is approximately 100 million (considering education alone)."
   ]
  },
  {
   "cell_type": "markdown",
   "metadata": {},
   "source": [
    "### Maximum Likelihood Estimates of Population Proportion"
   ]
  },
  {
   "cell_type": "raw",
   "metadata": {},
   "source": [
    "As per the central limit theorem, the maximum likelihood estimates of population proportion would fall in the same range of sample proportion.\n",
    "\n",
    "So, we can have below inferences on the population estimates with respect to ML\n",
    "\n",
    "1. Probability proportion of income >50K if education-num is >=10 in sample is 0.33\n",
    "   From above, ML estimate of getting income >50K if the education-num is >=10 is 33.0%\n",
    "\n",
    "\n",
    "2. Probability proportion of income <50K if education-num is >=10 in sample is 0.67\n",
    "   From above, ML estimate of getting income <50K if the education-num is >=10 is 67.0%\n",
    "\n",
    "\n",
    "3. Probability proportion of income >50K if education-num is <10 in sample is 0.13\n",
    "   From above, ML estimate of getting income >50K if the education-num is <10 is 13.0%\n",
    "\n",
    "\n",
    "4. Probability of income <50K if education-num is <10 in sample is 0.87\n",
    "   From above, ML estimate of of getting income <50K if the education-num is <10 is 87.0%"
   ]
  },
  {
   "cell_type": "markdown",
   "metadata": {},
   "source": [
    "### Finding the confidence intervals and standard errors for population proportion"
   ]
  },
  {
   "cell_type": "markdown",
   "metadata": {},
   "source": [
    "#### Wald and Score confidence intervals for income >50K if education-num is >=10 for 95% confidence level"
   ]
  },
  {
   "cell_type": "code",
   "execution_count": 75,
   "metadata": {},
   "outputs": [
    {
     "name": "stdout",
     "output_type": "stream",
     "text": [
      "\n",
      "The confidence interval is (0.329212000349972, 0.34068493858249993)\n",
      "\n",
      "The Score confidence interval is (0.32923675095889376, 0.34070894547303027)\n"
     ]
    }
   ],
   "source": [
    "import pandas as pd\n",
    "from statsmodels.stats.proportion import proportion_confint\n",
    "\n",
    "def findIntervals(sampleFilteredCount, sampleTotalCount):\n",
    "    # Find 95% Wald and Score Confidence interval\n",
    "    print(\"\\nThe confidence interval is {}\".format(proportion_confint(sampleFilteredCount, # Number of students believe\n",
    "                   sampleTotalCount, # Total Number of students\n",
    "                   alpha=0.05, method=\"normal\")))\n",
    "    print(\"\\nThe Score confidence interval is {}\".format(proportion_confint(sampleFilteredCount, # Number of students believe\n",
    "                   sampleTotalCount, # Total Number of students\n",
    "                   alpha=0.05, method=\"wilson\")))\n",
    "\n",
    "filteredData = filteredAdultData[(filteredAdultData['education-num'] >= 10) \n",
    "                                                   & (filteredAdultData['income'] == 1)]\n",
    "findIntervals(filteredData['income'].count(), countOfAllDataGreater['income'])"
   ]
  },
  {
   "cell_type": "markdown",
   "metadata": {},
   "source": [
    "#### Wald and Score confidence intervals for income <50K if education-num is >=10 for 95% confidence level"
   ]
  },
  {
   "cell_type": "code",
   "execution_count": 79,
   "metadata": {},
   "outputs": [
    {
     "name": "stdout",
     "output_type": "stream",
     "text": [
      "\n",
      "The confidence interval is (0.6593150614175001, 0.6707879996500281)\n",
      "\n",
      "The Score confidence interval is (0.6592910545269699, 0.6707632490411064)\n"
     ]
    }
   ],
   "source": [
    "filteredData2 = filteredAdultData[(filteredAdultData['education-num'] >= 10) \n",
    "                                                   & (filteredAdultData['income'] == 0)]\n",
    "findIntervals(filteredData2['income'].count(), countOfAllDataGreater['income'])"
   ]
  },
  {
   "cell_type": "markdown",
   "metadata": {},
   "source": [
    "#### Wald and Score confidence intervals for income >50K if education-num is <10 for 95% confidence level"
   ]
  },
  {
   "cell_type": "code",
   "execution_count": 80,
   "metadata": {},
   "outputs": [
    {
     "name": "stdout",
     "output_type": "stream",
     "text": [
      "\n",
      "The confidence interval is (0.12646454463750048, 0.13545894150766305)\n",
      "\n",
      "The Score confidence interval is (0.12653003462600917, 0.1355245884381265)\n"
     ]
    }
   ],
   "source": [
    "filteredData3 = filteredAdultData[(filteredAdultData['education-num'] < 10) \n",
    "                                                   & (filteredAdultData['income'] == 1)]\n",
    "findIntervals(filteredData3['income'].count(), countOfAllDataLesser['income'])"
   ]
  },
  {
   "cell_type": "markdown",
   "metadata": {},
   "source": [
    "#### Wald and Score confidence intervals for income <50K if education-num is <10 for 95% confidence level"
   ]
  },
  {
   "cell_type": "code",
   "execution_count": 95,
   "metadata": {},
   "outputs": [
    {
     "name": "stdout",
     "output_type": "stream",
     "text": [
      "\n",
      "The confidence interval is (0.864541058492337, 0.8735354553624994)\n",
      "\n",
      "The Score confidence interval is (0.8644754115618736, 0.8734699653739908)\n"
     ]
    }
   ],
   "source": [
    "filteredData4 = filteredAdultData[(filteredAdultData['education-num'] < 10) \n",
    "                                                   & (filteredAdultData['income'] == 0)]\n",
    "findIntervals(filteredData3['income'].count(), countOfAllDataLesser['income'])"
   ]
  },
  {
   "cell_type": "raw",
   "metadata": {},
   "source": [
    "From the ML estimates, 95% Wald and Score confidence intervals, the interval percentage is approximately same as probabilities perdicted above. Also, the confidence interval is more narrow which shows the values are more precise and accurate."
   ]
  },
  {
   "cell_type": "markdown",
   "metadata": {},
   "source": [
    "### Hypothetical Sample size required to get the confidence level of 95% and standard error within 0.05"
   ]
  },
  {
   "cell_type": "raw",
   "metadata": {},
   "source": [
    "Since normal population distributions are symmetric, the propotion of 0.5 would give the maximum value. Also, the probability of 0.95 and standard error of 0.05 denotes it is 95% confidence interval where z-score would be 1.96. So, the standard error based on propotion is z-score * sqrt((propotion(1-propotion))/n). Here, to find n, on substitution, it is z-score**2(propotion)(1-propotion)/(stadard error*2). The below python code was used to compute answer."
   ]
  },
  {
   "cell_type": "code",
   "execution_count": 86,
   "metadata": {},
   "outputs": [
    {
     "name": "stdout",
     "output_type": "stream",
     "text": [
      "\n",
      "The approximate sample size to be used is 340.0\n"
     ]
    }
   ],
   "source": [
    "zScore = 1.96\n",
    "propotion = 0.33\n",
    "stdError = 0.05\n",
    "print(\"\\nThe approximate sample size to be used is {}\".format(round(zScore**2*propotion*(1-propotion)/(stdError**2),0)))"
   ]
  },
  {
   "cell_type": "markdown",
   "metadata": {},
   "source": [
    "### Standard Error, Margin of Error, upper and lower quantile"
   ]
  },
  {
   "cell_type": "code",
   "execution_count": 88,
   "metadata": {},
   "outputs": [],
   "source": [
    "# The standard error, margin of error can be obtained by se = sqrt(p(1-p)/n) and me = z-score * se\n",
    "def findErrorValues(proportion, totalCount):\n",
    "    se = math.sqrt(proportion*(1-proportion)/totalCount)\n",
    "    zScore = 1.96 # 95% confidence interval\n",
    "    print(\"\\nThe standard error is {}\".format(se))\n",
    "    me = se*1.96\n",
    "    print(\"The margin of error is {}\\n\".format(me))\n",
    "    print(\"The lower quantile is {}\".format(proportion - me))\n",
    "    print(\"The upper quantile is {}\".format(proportion + me))\n",
    "    "
   ]
  },
  {
   "cell_type": "markdown",
   "metadata": {},
   "source": [
    "#### For income >50K if education-num is >=10 for 95% confidence level"
   ]
  },
  {
   "cell_type": "code",
   "execution_count": 89,
   "metadata": {},
   "outputs": [
    {
     "name": "stdout",
     "output_type": "stream",
     "text": [
      "\n",
      "The standard error is 0.005038314736557789\n",
      "The margin of error is 0.009875096883653267\n",
      "\n",
      "The lower quantile is 0.3201249031163467\n",
      "The upper quantile is 0.3398750968836533\n"
     ]
    }
   ],
   "source": [
    "findErrorValues(0.33, filteredData['income'].count())"
   ]
  },
  {
   "cell_type": "markdown",
   "metadata": {},
   "source": [
    "#### For income <50K if education-num is >=10 for 95% confidence level"
   ]
  },
  {
   "cell_type": "code",
   "execution_count": 91,
   "metadata": {},
   "outputs": [
    {
     "name": "stdout",
     "output_type": "stream",
     "text": [
      "\n",
      "The standard error is 0.003575581190359032\n",
      "The margin of error is 0.007008139133103703\n",
      "\n",
      "The lower quantile is 0.6629918608668963\n",
      "The upper quantile is 0.6770081391331038\n"
     ]
    }
   ],
   "source": [
    "findErrorValues(0.67, filteredData2['income'].count())"
   ]
  },
  {
   "cell_type": "markdown",
   "metadata": {},
   "source": [
    "#### For income >50K if education-num is <10 for 95% confidence level"
   ]
  },
  {
   "cell_type": "code",
   "execution_count": 93,
   "metadata": {},
   "outputs": [
    {
     "name": "stdout",
     "output_type": "stream",
     "text": [
      "\n",
      "The standard error is 0.0024536586465425045\n",
      "The margin of error is 0.004809170947223309\n",
      "\n",
      "The lower quantile is 0.1251908290527767\n",
      "The upper quantile is 0.1348091709472233\n"
     ]
    }
   ],
   "source": [
    "findErrorValues(0.13, filteredData3['income'].count())"
   ]
  },
  {
   "cell_type": "markdown",
   "metadata": {},
   "source": [
    "#### For income <50K if education-num is <10 for 95% confidence level"
   ]
  },
  {
   "cell_type": "code",
   "execution_count": 96,
   "metadata": {},
   "outputs": [
    {
     "name": "stdout",
     "output_type": "stream",
     "text": [
      "\n",
      "The standard error is 0.0024536586465425045\n",
      "The margin of error is 0.004809170947223309\n",
      "\n",
      "The lower quantile is 0.8651908290527767\n",
      "The upper quantile is 0.8748091709472233\n"
     ]
    }
   ],
   "source": [
    "findErrorValues(0.87, filteredData4['income'].count())"
   ]
  },
  {
   "cell_type": "markdown",
   "metadata": {},
   "source": [
    "### Significance Tests, P-value,  Z-test and Chi-squared Tests"
   ]
  },
  {
   "cell_type": "markdown",
   "metadata": {},
   "source": [
    "#### Z-test for education >= 10 years the proportion of income > 50K, H0: Proportion to be 0.20 Ha: Proportion not equal to 0.20"
   ]
  },
  {
   "cell_type": "code",
   "execution_count": 113,
   "metadata": {},
   "outputs": [
    {
     "name": "stdout",
     "output_type": "stream",
     "text": [
      "\n",
      "For income >50K, the z-test is 46.11, one-sided P-value assuming distribution as symmetric and normal is 0.0\n",
      "\n",
      "For income >50K, the confidence interval is between 0.33 - 0.34\n",
      "\n",
      "Since the P-value is so low, the H0 can be rejected that population proportion getting income is not equal to 0.20. Infact from confidence interval, it is in narrow range of 0.32 - 0.34.\n",
      "\n",
      "\n",
      "For income >50K, the z-test is -90.56, one-sided P-value assuming distribution as symmetric and normal is 0.0\n",
      "\n",
      "For income >50K, the confidence interval is between 0.33 - 0.34\n"
     ]
    }
   ],
   "source": [
    "from statsmodels.stats.proportion import proportions_ztest, proportion_confint\n",
    "\n",
    "def proportionCheck(successCount, totCount, state, piValue):\n",
    "    stat, pVal = proportions_ztest(successCount, totCount, piValue)\n",
    "    print(\"\\nFor income {}, the z-test is {}, one-sided P-value assuming distribution \" \n",
    "          \"as symmetric and normal is {}\".format(state, round(stat, 2), pVal/2)) # Divide by 2 assuming symmetric and normal\n",
    "    confidenceInterval = proportion_confint(successCount, totCount)\n",
    "    print(\"\\nFor income {}, the confidence interval is between {} - {}\".format(state, round(confidenceInterval[0], 2), \n",
    "                                                                   round(confidenceInterval[1], 2)))\n",
    "proportionCheck(filteredData['income'].count(), countOfAllDataGreater['income'], \">50K\", 0.20)\n",
    "#proportionCheck(stateBSuccessCount, stateBTotCount, \"B\")\n",
    "print(\"\\nSince the P-value is so low, the H0 can be rejected that population proportion getting income is not equal\"\n",
    "      \" to 0.20. Infact, from confidence interval, it is in narrow range of 0.32 - 0.34.\\n\")\n",
    "\n",
    "proportionCheck(filteredData['income'].count(), countOfAllDataGreater['income'], \">50K\", 0.60) # High value check\n",
    "\n",
    "print(\"\\nSince the P-value is so low, the H0 can be rejected that population proportion getting income is not equal\"\n",
    "      \" to 0.60. Infact, from confidence interval, it is in narrow range of 0.32 - 0.34.\\n\")"
   ]
  },
  {
   "cell_type": "markdown",
   "metadata": {},
   "source": [
    "#### Chi-squared Test for the association between number of years of education and income. H0: No relation between education and income Ha: Significant relationship between education and income"
   ]
  },
  {
   "cell_type": "code",
   "execution_count": 105,
   "metadata": {},
   "outputs": [
    {
     "name": "stdout",
     "output_type": "stream",
     "text": [
      "income             0     1\n",
      "education-num             \n",
      "1                 77     1\n",
      "2                231     8\n",
      "3                468    26\n",
      "4                852    60\n",
      "5                695    40\n",
      "6               1251    85\n",
      "7               1656    90\n",
      "8                586    47\n",
      "9              12970  2474\n",
      "10              8471  2041\n",
      "11              1513   521\n",
      "12              1159   407\n",
      "13              4608  3273\n",
      "14              1176  1434\n",
      "15               210   609\n",
      "16               157   425\n"
     ]
    }
   ],
   "source": [
    "import pandas as pd\n",
    "from scipy.stats import chi2_contingency\n",
    "\n",
    "# Create a contingency table (cross-tabulation)\n",
    "contingencyTable = pd.crosstab(filteredAdultData['education-num'], filteredAdultData['income'])\n",
    "print(contingencyTable)"
   ]
  },
  {
   "cell_type": "code",
   "execution_count": 110,
   "metadata": {},
   "outputs": [],
   "source": [
    "# Perform the chi-squared test for independence\n",
    "def chiSquaredTest(contingencyTable):\n",
    "    chi2Stat, pVal, dof, expected = chi2_contingency(contingencyTable)\n",
    "\n",
    "    # Output the results\n",
    "    print(\"Chi-squared statistic:\", chi2Stat)\n",
    "    print(\"p-value:\", pVal)\n",
    "    print(\"Degrees of freedom:\", dof)\n",
    "    print(\"Expected frequencies:\\n\", expected)\n",
    "contingencyTable = pd.crosstab(filteredAdultData['education-num'], filteredAdultData['income'])\n",
    "chiSquaredTest(contingencyTable)"
   ]
  },
  {
   "cell_type": "raw",
   "metadata": {},
   "source": [
    "\n",
    "From the Chi-squared results above, as expected, since the p-value is negligible, there is a strong relationship between number of years of education and income.\n"
   ]
  },
  {
   "cell_type": "markdown",
   "metadata": {},
   "source": [
    "#### Chi-squared Test for the association between age and income. H0: No relation between age and income Ha: Significant relationship between age and income"
   ]
  },
  {
   "cell_type": "code",
   "execution_count": 112,
   "metadata": {},
   "outputs": [
    {
     "name": "stdout",
     "output_type": "stream",
     "text": [
      "Chi-squared statistic: 5003.703068883917\n",
      "p-value: 0.0\n",
      "Degrees of freedom: 73\n",
      "Expected frequencies:\n",
      " [[4.24283404e+02 1.35716596e+02]\n",
      " [6.04603851e+02 1.93396149e+02]\n",
      " [7.44011256e+02 2.37988744e+02]\n",
      " [7.87954894e+02 2.52045106e+02]\n",
      " [7.83409000e+02 2.50591000e+02]\n",
      " [8.52355053e+02 2.72644947e+02]\n",
      " [9.80397724e+02 3.13602276e+02]\n",
      " [8.90995149e+02 2.85004851e+02]\n",
      " [8.90237500e+02 2.84762500e+02]\n",
      " [8.57658596e+02 2.74341404e+02]\n",
      " [9.11451670e+02 2.91548330e+02]\n",
      " [9.52364713e+02 3.04635287e+02]\n",
      " [9.06148128e+02 2.89851872e+02]\n",
      " [9.56910607e+02 3.06089393e+02]\n",
      " [9.93277756e+02 3.17722244e+02]\n",
      " [9.35696436e+02 2.99303564e+02]\n",
      " [9.97823649e+02 3.19176351e+02]\n",
      " [9.72821234e+02 3.11178766e+02]\n",
      " [1.00009660e+03 3.19903404e+02]\n",
      " [1.00691544e+03 3.22084564e+02]\n",
      " [9.53880011e+02 3.05119989e+02]\n",
      " [9.44788224e+02 3.02211776e+02]\n",
      " [9.08421075e+02 2.90578925e+02]\n",
      " [8.88722202e+02 2.84277798e+02]\n",
      " [9.19028160e+02 2.93971840e+02]\n",
      " [8.72811575e+02 2.79188425e+02]\n",
      " [8.27352639e+02 2.64647361e+02]\n",
      " [7.99319628e+02 2.55680372e+02]\n",
      " [8.15987904e+02 2.61012096e+02]\n",
      " [8.24322043e+02 2.63677957e+02]\n",
      " [8.05380819e+02 2.57619181e+02]\n",
      " [6.32636862e+02 2.02363138e+02]\n",
      " [6.30363915e+02 2.01636085e+02]\n",
      " [6.48547490e+02 2.07452510e+02]\n",
      " [6.50820436e+02 2.08179564e+02]\n",
      " [5.47780181e+02 1.75219819e+02]\n",
      " [5.34142500e+02 1.70857500e+02]\n",
      " [4.58377607e+02 1.46622393e+02]\n",
      " [4.59892904e+02 1.47107096e+02]\n",
      " [4.22010458e+02 1.34989542e+02]\n",
      " [4.05342181e+02 1.29657819e+02]\n",
      " [4.08372777e+02 1.30627223e+02]\n",
      " [3.87158606e+02 1.23841394e+02]\n",
      " [3.28819638e+02 1.05180362e+02]\n",
      " [3.29577287e+02 1.05422713e+02]\n",
      " [2.82603053e+02 9.03969467e+01]\n",
      " [2.45478255e+02 7.85217446e+01]\n",
      " [2.42447660e+02 7.75523404e+01]\n",
      " [1.96231075e+02 6.27689255e+01]\n",
      " [1.66682766e+02 5.33172340e+01]\n",
      " [1.66682766e+02 5.33172340e+01]\n",
      " [1.25769723e+02 4.02302766e+01]\n",
      " [1.09101447e+02 3.48985532e+01]\n",
      " [9.16755213e+01 2.93244787e+01]\n",
      " [8.18260851e+01 2.61739149e+01]\n",
      " [8.33413830e+01 2.66586170e+01]\n",
      " [7.34919468e+01 2.35080532e+01]\n",
      " [5.45507234e+01 1.74492766e+01]\n",
      " [4.84895319e+01 1.55104681e+01]\n",
      " [4.77318830e+01 1.52681170e+01]\n",
      " [3.63671489e+01 1.16328511e+01]\n",
      " [2.27294681e+01 7.27053191e+00]\n",
      " [2.04565213e+01 6.54347872e+00]\n",
      " [2.65177128e+01 8.48228723e+00]\n",
      " [2.57600638e+01 8.23993616e+00]\n",
      " [1.13647340e+01 3.63526595e+00]\n",
      " [7.57648936e+00 2.42351064e+00]\n",
      " [8.33413830e+00 2.66586170e+00]\n",
      " [3.78824468e+00 1.21175532e+00]\n",
      " [7.57648936e-01 2.42351064e-01]\n",
      " [1.51529787e+00 4.84702127e-01]\n",
      " [3.78824468e+00 1.21175532e+00]\n",
      " [7.57648936e-01 2.42351064e-01]\n",
      " [4.09130426e+01 1.30869574e+01]]\n"
     ]
    }
   ],
   "source": [
    "contingencyTableAge = pd.crosstab(filteredAdultData['age'], filteredAdultData['income'])\n",
    "chiSquaredTest(contingencyTableAge)"
   ]
  },
  {
   "cell_type": "raw",
   "metadata": {},
   "source": [
    "\n",
    "From the Chi-squared results above, as expected, since the p-value is negligible, there is a strong relationship between age and income.\n",
    "\n",
    "So Age and number of years of education play a significant role in income proportion.\n"
   ]
  },
  {
   "cell_type": "markdown",
   "metadata": {},
   "source": [
    "#### Find estmated expected frequencies, standardized residuals and the corresponding Mosaic plot"
   ]
  },
  {
   "cell_type": "code",
   "execution_count": 119,
   "metadata": {},
   "outputs": [
    {
     "name": "stdout",
     "output_type": "stream",
     "text": [
      "\n",
      "\n",
      "income                   0            1\n",
      "education                              \n",
      "10th           1012.218979   323.781021\n",
      "11th           1322.855043   423.144957\n",
      "12th            479.591777   153.408223\n",
      "1st-4th         181.078096    57.921904\n",
      "5th-6th         374.278575   119.721425\n",
      "7th-8th         690.975830   221.024170\n",
      "9th             556.871968   178.128032\n",
      "Assoc-acdm     1186.478234   379.521766\n",
      "Assoc-voc      1541.057937   492.942063\n",
      "Bachelors      5971.031268  1909.968732\n",
      "Doctorate       440.951681   141.048319\n",
      "HS-grad       11701.130174  3742.869826\n",
      "Masters        1977.463724   632.536276\n",
      "Preschool        59.096617    18.903383\n",
      "Prof-school     620.514479   198.485521\n",
      "Some-college   7964.405619  2547.594381\n",
      "\n",
      "From the mosaic plot below,\n"
     ]
    },
    {
     "data": {
      "image/png": "[encoded data removed]",
      "text/plain": [
       "<Figure size 432x288 with 3 Axes>"
      ]
     },
     "metadata": {
      "needs_background": "light"
     },
     "output_type": "display_data"
    }
   ],
   "source": [
    "from statsmodels.graphics.mosaicplot import mosaic\n",
    "import statsmodels.api as sm\n",
    "\n",
    "filteredAdultDataNew = adultData[adultData.notnull().all(axis=1)]\n",
    "\n",
    "# Filter/cleanse the columns that are considered irrelvant\n",
    "# Assumptions\n",
    "# fnlwgt - Weightage is not considered to avoid bias\n",
    "# education - Removed as eduction-num is equivalent\n",
    "# marital status and relationship wasn't considered too\n",
    "\n",
    "filteredAdultDataNew = filteredAdultDataNew.drop(columns=['fnlwgt', 'marital-status', 'relationship'])\n",
    "filteredAdultDataNew.head()\n",
    "\n",
    "# Define a function to map income values to binary values\n",
    "def incomeToBinary(income):\n",
    "    if income == '<=50K' or income == '<=50K.':\n",
    "        return 0\n",
    "    elif income == '>50K' or income == '>50K.':\n",
    "        return 1\n",
    "\n",
    "# Apply the function to transform the 'income' column to binary\n",
    "filteredAdultDataNew['income'] = filteredAdultDataNew['income'].apply(lambda x: incomeToBinary(x))\n",
    "\n",
    "filteredAdultDataNew.head()\n",
    "\n",
    "# Table on Propotions expected frequencies\n",
    "crossPropTable = pd.crosstab(filteredAdultDataNew['education'], filteredAdultDataNew['income'], normalize='index')\n",
    "crossPropTable\n",
    "crossTable = pd.crosstab(filteredAdultDataNew['education'], filteredAdultDataNew['income'], margins=False)\n",
    "resultH0Table = sm.stats.Table(crossTable)\n",
    "print(\"\\n\")\n",
    "print(resultH0Table.fittedvalues)\n",
    "\n",
    "# Calculate Residuals\n",
    "resultH0Table.standardized_resids\n",
    "\n",
    "# Mosaic Plot\n",
    "# First convert the numeric values to strings\n",
    "filteredAdultDataNew.loc[filteredAdultDataNew['income'] == 0, 'income'] = '<=50K'\n",
    "filteredAdultDataNew.loc[filteredAdultDataNew['income'] == 1, 'income'] = '>50K'\n",
    "fig, _ = mosaic(filteredAdultDataNew, ['education','income'], statistic=True)\n",
    "print(\"\\nFrom the mosaic plot below,\")"
   ]
  },
  {
   "cell_type": "markdown",
   "metadata": {},
   "source": [
    "### Scatterplot and Regression Model fit"
   ]
  },
  {
   "cell_type": "markdown",
   "metadata": {},
   "source": [
    "#### Regression Model Fit between number of years of education and income"
   ]
  },
  {
   "cell_type": "raw",
   "metadata": {},
   "source": [
    "\n",
    "Since the number of years of education is a continuous variable and the target income is an explanatory variable with values <=50K and >50K, the logit regression model would be the right fit for this.\n"
   ]
  },
  {
   "cell_type": "code",
   "execution_count": 125,
   "metadata": {},
   "outputs": [
    {
     "name": "stdout",
     "output_type": "stream",
     "text": [
      "Optimization terminated successfully.\n",
      "         Current function value: 0.492559\n",
      "         Iterations 6\n",
      "                           Logit Regression Results                           \n",
      "==============================================================================\n",
      "Dep. Variable:                 income   No. Observations:                47621\n",
      "Model:                          Logit   Df Residuals:                    47619\n",
      "Method:                           MLE   Df Model:                            1\n",
      "Date:                Sat, 24 Feb 2024   Pseudo R-squ.:                  0.1105\n",
      "Time:                        22:13:13   Log-Likelihood:                -23456.\n",
      "converged:                       True   LL-Null:                       -26371.\n",
      "Covariance Type:            nonrobust   LLR p-value:                     0.000\n",
      "=================================================================================\n",
      "                    coef    std err          z      P>|z|      [0.025      0.975]\n",
      "---------------------------------------------------------------------------------\n",
      "education-num     0.3608      0.005     69.760      0.000       0.351       0.371\n",
      "intercept        -4.9744      0.058    -85.345      0.000      -5.089      -4.860\n",
      "=================================================================================\n"
     ]
    }
   ],
   "source": [
    "\n",
    "\n",
    "# Add a constant term for the intercept\n",
    "filteredAdultData['intercept'] = 1\n",
    "\n",
    "# Define the independent variable (X) and dependent variable (y)\n",
    "X = filteredAdultData[['education-num', 'intercept']]\n",
    "y = filteredAdultData['income']\n",
    "\n",
    "# Fit the logistic regression model\n",
    "model = sm.Logit(y, X).fit()\n",
    "\n",
    "# Calculate the predicted probabilities\n",
    "predictedProbs = model.predict(X)\n",
    "\n",
    "# Print the summary of the model\n",
    "print(model.summary())"
   ]
  },
  {
   "cell_type": "raw",
   "metadata": {},
   "source": [
    "\n",
    "Since the co-eff of number of years of education is 0.36, it denotes a positive linear relationship with income.\n"
   ]
  },
  {
   "cell_type": "code",
   "execution_count": 146,
   "metadata": {
    "scrolled": true
   },
   "outputs": [
    {
     "name": "stdout",
     "output_type": "stream",
     "text": [
      "The number of entries with probability greater than 60% is 1401\n"
     ]
    }
   ],
   "source": [
    "# Define the logistic regression equation\n",
    "def logistic_regression(education, intercept, coefEducation):\n",
    "    # Calculate the log odds (logit)\n",
    "    logOdds = intercept + coefEducation * education\n",
    "    # Calculate the probability of high income (1) using the logistic function\n",
    "    probability = np.exp(logOdds) / (1 + np.exp(logOdds))\n",
    "    return probability\n",
    "\n",
    "# Example values (replace with your data)\n",
    "intercept = -4.97\n",
    "coefEducation = 0.36\n",
    "\n",
    "# Calculate probabilities for each education value\n",
    "probabilities = [logistic_regression(education, intercept, coefEducation) \n",
    "                 for education in filteredAdultData['education-num']]\n",
    "count = 0\n",
    "# Output the probabilities\n",
    "for education, prob in zip(filteredAdultData['education-num'], probabilities):\n",
    "    if prob > 0.60:\n",
    "       count += 1 \n",
    "print(\"The number of entries with probability greater than 60% is {}\".format(count))      "
   ]
  },
  {
   "cell_type": "raw",
   "metadata": {},
   "source": [
    "From the data above, the highest level of education results in income > 50K probability more than 60%."
   ]
  },
  {
   "cell_type": "code",
   "execution_count": 140,
   "metadata": {},
   "outputs": [
    {
     "data": {
      "image/png": "[encoded data removed]",
      "text/plain": [
       "<Figure size 432x288 with 1 Axes>"
      ]
     },
     "metadata": {
      "needs_background": "light"
     },
     "output_type": "display_data"
    },
    {
     "data": {
      "image/png": "[encoded data removed]",
      "text/plain": [
       "<Figure size 432x288 with 1 Axes>"
      ]
     },
     "metadata": {
      "needs_background": "light"
     },
     "output_type": "display_data"
    }
   ],
   "source": [
    "import matplotlib.pyplot as plt\n",
    "\n",
    "# Calculate the predicted probabilities\n",
    "predictedProbs = model.predict(X)\n",
    "\n",
    "# Plot the logistic regression curve\n",
    "plt.scatter(filteredAdultData['education-num'], predictedProbs, color='red', label='Fitted Probabilities')\n",
    "plt.xlabel('Education (Number of Years)')\n",
    "plt.ylabel('Predicted Probabilities')\n",
    "plt.title('Predicted Probabilities from Logistic Regression vs. Education')\n",
    "plt.grid(True)\n",
    "plt.legend()\n",
    "plt.show()\n",
    "\n",
    "# Plot the logistic regression curve\n",
    "plt.scatter(filteredAdultData['education-num'], np.log(predictedProbs), color='red', label='Fitted Probabilities')\n",
    "plt.xlabel('Education (Number of Years)')\n",
    "plt.ylabel('Predicted Probabilities')\n",
    "plt.title('Predicted Probabilities from Logistic Regression vs. Education')\n",
    "plt.grid(True)\n",
    "plt.legend()\n",
    "plt.show()"
   ]
  },
  {
   "cell_type": "raw",
   "metadata": {},
   "source": [
    "\n",
    "Since the predicated probabilities was exponential, the predicated probabilities was fitted with log(Y) and it shows the linear relationship. The linear relationship shows there is a strong relationship between higher number of years of education and getting higher incomes.\n"
   ]
  },
  {
   "cell_type": "markdown",
   "metadata": {},
   "source": [
    "#### Generalised Models Regression Fitting"
   ]
  },
  {
   "cell_type": "code",
   "execution_count": 144,
   "metadata": {
    "scrolled": false
   },
   "outputs": [
    {
     "data": {
      "image/png": "[encoded data removed]",
      "text/plain": [
       "<Figure size 432x288 with 1 Axes>"
      ]
     },
     "metadata": {
      "needs_background": "light"
     },
     "output_type": "display_data"
    },
    {
     "data": {
      "image/png": "[encoded data removed]",
      "text/plain": [
       "<Figure size 432x288 with 1 Axes>"
      ]
     },
     "metadata": {
      "needs_background": "light"
     },
     "output_type": "display_data"
    }
   ],
   "source": [
    "# Fit the logistic regression model using glm()\n",
    "model = sm.GLM(y, X, family=sm.families.Binomial()).fit()\n",
    "\n",
    "# Calculate the predicted probabilities\n",
    "predictedProbs = model.predict(X)\n",
    "\n",
    "# Plot the logistic regression curve\n",
    "plt.scatter(filteredAdultData['education-num'], predictedProbs, color='red', label='Fitted Probabilities')\n",
    "plt.xlabel('Education (Number of Years)')\n",
    "plt.ylabel('Predicted Probabilities')\n",
    "plt.title('Predicted Probabilities from Logistic Regression vs. Education')\n",
    "plt.grid(True)\n",
    "plt.legend()\n",
    "plt.show()\n",
    "\n",
    "# Plot the logistic regression curve\n",
    "plt.scatter(filteredAdultData['education-num'], np.log(predictedProbs), color='red', label='Fitted Probabilities')\n",
    "plt.xlabel('Education (Number of Years)')\n",
    "plt.ylabel('Predicted Probabilities')\n",
    "plt.title('Predicted Probabilities from Logistic Regression vs. Education')\n",
    "plt.grid(True)\n",
    "plt.legend()\n",
    "plt.show()"
   ]
  },
  {
   "cell_type": "raw",
   "metadata": {},
   "source": [
    "\n",
    "So, the Generalized Linear Model gives almost the same model fit like the normalized linear models. It shows strong linear relationship. So, conclusion is higher number of years of education results in getting higher incomes.\n"
   ]
  },
  {
   "cell_type": "raw",
   "metadata": {},
   "source": [
    "References:\n",
    "\n",
    "Agresti, Alan; Kateri, Maria. Foundations of Statistics for Data Scientists: With R and Python (Chapman & Hall/CRC Texts in Statistical Science) (p. 316). CRC Press. Kindle Edition.\n",
    "\n",
    "OpenAI. (2024, January). ChatGPT [GPT-3.5]. ChatGPT. https://openai.com/chatgpt"
   ]
  }
 ],
 "metadata": {
  "kernelspec": {
   "display_name": "Python 3",
   "language": "python",
   "name": "python3"
  },
  "language_info": {
   "codemirror_mode": {
    "name": "ipython",
    "version": 3
   },
   "file_extension": ".py",
   "mimetype": "text/x-python",
   "name": "python",
   "nbconvert_exporter": "python",
   "pygments_lexer": "ipython3",
   "version": "3.8.5"
  }
 },
 "nbformat": 4,
 "nbformat_minor": 4
}
